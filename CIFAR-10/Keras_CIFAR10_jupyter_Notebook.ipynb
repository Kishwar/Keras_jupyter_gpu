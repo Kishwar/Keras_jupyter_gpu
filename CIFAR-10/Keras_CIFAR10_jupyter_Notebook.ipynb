{
  "nbformat": 4,
  "nbformat_minor": 0,
  "metadata": {
    "colab": {
      "name": "Keras_CIFAR10_jupyter_Notebook.ipynb",
      "version": "0.3.2",
      "views": {},
      "default_view": {},
      "provenance": [],
      "collapsed_sections": []
    },
    "kernelspec": {
      "display_name": "Python 3",
      "language": "python",
      "name": "python3"
    },
    "accelerator": "GPU"
  },
  "cells": [
    {
      "metadata": {
        "id": "C-ElBL_aDGvx",
        "colab_type": "code",
        "colab": {
          "autoexec": {
            "startup": false,
            "wait_interval": 0
          },
          "output_extras": [
            {
              "item_id": 1
            }
          ],
          "base_uri": "https://localhost:8080/",
          "height": 102
        },
        "outputId": "8d28bd3d-ffb7-4a0a-ff59-f3caa79c3015",
        "executionInfo": {
          "status": "ok",
          "timestamp": 1520689343623,
          "user_tz": -60,
          "elapsed": 1880,
          "user": {
            "displayName": "Kishwar Kumar",
            "photoUrl": "https://lh3.googleusercontent.com/a/default-user=s128",
            "userId": "105642459363095416331"
          }
        }
      },
      "cell_type": "code",
      "source": [
        "# for google cloud gpu only\n",
        "!pip install keras"
      ],
      "execution_count": 1,
      "outputs": [
        {
          "output_type": "stream",
          "text": [
            "Requirement already satisfied: keras in /usr/local/lib/python3.6/dist-packages\r\n",
            "Requirement already satisfied: scipy>=0.14 in /usr/local/lib/python3.6/dist-packages (from keras)\r\n",
            "Requirement already satisfied: pyyaml in /usr/local/lib/python3.6/dist-packages (from keras)\r\n",
            "Requirement already satisfied: six>=1.9.0 in /usr/local/lib/python3.6/dist-packages (from keras)\r\n",
            "Requirement already satisfied: numpy>=1.9.1 in /usr/local/lib/python3.6/dist-packages (from keras)\r\n"
          ],
          "name": "stdout"
        }
      ]
    },
    {
      "metadata": {
        "id": "9Sckr6L9DGv7",
        "colab_type": "code",
        "colab": {
          "autoexec": {
            "startup": false,
            "wait_interval": 0
          },
          "output_extras": [
            {
              "item_id": 1
            }
          ],
          "base_uri": "https://localhost:8080/",
          "height": 34
        },
        "outputId": "43ae0d9b-0aa0-451f-96be-4e289f06bd11",
        "executionInfo": {
          "status": "ok",
          "timestamp": 1520689344988,
          "user_tz": -60,
          "elapsed": 1311,
          "user": {
            "displayName": "Kishwar Kumar",
            "photoUrl": "https://lh3.googleusercontent.com/a/default-user=s128",
            "userId": "105642459363095416331"
          }
        }
      },
      "cell_type": "code",
      "source": [
        "from keras.datasets import cifar10\n",
        "from keras.utils import np_utils\n",
        "from keras.models import Sequential\n",
        "from keras.layers.core import Dense, Dropout, Activation, Flatten\n",
        "from keras.layers.convolutional import Conv2D, MaxPooling2D\n",
        "from keras.optimizers import SGD, Adam, RMSprop\n",
        "import matplotlib.pyplot as plt"
      ],
      "execution_count": 2,
      "outputs": [
        {
          "output_type": "stream",
          "text": [
            "Using TensorFlow backend.\n"
          ],
          "name": "stderr"
        }
      ]
    },
    {
      "metadata": {
        "id": "jAesjOPFDGwB",
        "colab_type": "code",
        "colab": {
          "autoexec": {
            "startup": false,
            "wait_interval": 0
          }
        }
      },
      "cell_type": "code",
      "source": [
        "# CIFAR_10 is a set of 60K images 32x32 pixels on 3 channels\n",
        "IMG_CHANNELS = 3\n",
        "IMG_ROWS = 32\n",
        "IMG_COLS = 32"
      ],
      "execution_count": 0,
      "outputs": []
    },
    {
      "metadata": {
        "id": "wPD-Bz9FDGwD",
        "colab_type": "code",
        "colab": {
          "autoexec": {
            "startup": false,
            "wait_interval": 0
          }
        }
      },
      "cell_type": "code",
      "source": [
        "#constant\n",
        "BATCH_SIZE = 128\n",
        "NB_EPOCH = 25   # CPU 1, GPU 25\n",
        "NB_CLASSES = 10\n",
        "VERBOSE = 1\n",
        "VALIDATION_SPLIT = 0.2\n",
        "OPTIM = RMSprop()"
      ],
      "execution_count": 0,
      "outputs": []
    },
    {
      "metadata": {
        "id": "pgjTLhCbDGwH",
        "colab_type": "code",
        "colab": {
          "autoexec": {
            "startup": false,
            "wait_interval": 0
          },
          "output_extras": [
            {
              "item_id": 1
            }
          ],
          "base_uri": "https://localhost:8080/",
          "height": 68
        },
        "outputId": "6edbaac9-d93d-4b47-c7a3-86c4cfe5a038",
        "executionInfo": {
          "status": "ok",
          "timestamp": 1520689346845,
          "user_tz": -60,
          "elapsed": 487,
          "user": {
            "displayName": "Kishwar Kumar",
            "photoUrl": "https://lh3.googleusercontent.com/a/default-user=s128",
            "userId": "105642459363095416331"
          }
        }
      },
      "cell_type": "code",
      "source": [
        "#load dataset\n",
        "(X_train, y_train), (X_test, y_test) = cifar10.load_data()\n",
        "print('X_train shape:', X_train.shape)\n",
        "print(X_train.shape[0], 'train samples')\n",
        "print(X_test.shape[0], 'test samples')"
      ],
      "execution_count": 5,
      "outputs": [
        {
          "output_type": "stream",
          "text": [
            "X_train shape: (50000, 32, 32, 3)\n",
            "50000 train samples\n",
            "10000 test samples\n"
          ],
          "name": "stdout"
        }
      ]
    },
    {
      "metadata": {
        "id": "fNUraz8BDGwM",
        "colab_type": "text"
      },
      "cell_type": "markdown",
      "source": [
        "#### Now let's do a one-hot encoding and normalize the images:"
      ]
    },
    {
      "metadata": {
        "id": "MwRN4YRyDGwN",
        "colab_type": "code",
        "colab": {
          "autoexec": {
            "startup": false,
            "wait_interval": 0
          }
        }
      },
      "cell_type": "code",
      "source": [
        "# convert to categorical\n",
        "Y_train = np_utils.to_categorical(y_train, NB_CLASSES)\n",
        "Y_test = np_utils.to_categorical(y_test, NB_CLASSES)"
      ],
      "execution_count": 0,
      "outputs": []
    },
    {
      "metadata": {
        "id": "sbUIdfdRDGwR",
        "colab_type": "code",
        "colab": {
          "autoexec": {
            "startup": false,
            "wait_interval": 0
          }
        }
      },
      "cell_type": "code",
      "source": [
        "# float and normalization\n",
        "X_train = X_train.astype('float32')\n",
        "X_test = X_test.astype('float32')\n",
        "X_train /= 255\n",
        "X_test /= 255"
      ],
      "execution_count": 0,
      "outputs": []
    },
    {
      "metadata": {
        "id": "wfQZ41d9DGwW",
        "colab_type": "raw"
      },
      "cell_type": "markdown",
      "source": [
        ""
      ]
    },
    {
      "metadata": {
        "id": "zzGIt2YiDGwW",
        "colab_type": "text"
      },
      "cell_type": "markdown",
      "source": [
        "### Let build the network for CIFAR-10"
      ]
    },
    {
      "metadata": {
        "id": "Q0YoVmPRDGwY",
        "colab_type": "code",
        "colab": {
          "autoexec": {
            "startup": false,
            "wait_interval": 0
          },
          "output_extras": [
            {
              "item_id": 1
            }
          ],
          "base_uri": "https://localhost:8080/",
          "height": 54
        },
        "outputId": "0e3f760e-4285-4ac9-abfa-b3869153bf95",
        "executionInfo": {
          "status": "ok",
          "timestamp": 1520689348883,
          "user_tz": -60,
          "elapsed": 448,
          "user": {
            "displayName": "Kishwar Kumar",
            "photoUrl": "https://lh3.googleusercontent.com/a/default-user=s128",
            "userId": "105642459363095416331"
          }
        }
      },
      "cell_type": "code",
      "source": [
        "# network for CIFAR-10\n",
        "model = Sequential()\n",
        "\n",
        "# Keras Con2D format\n",
        "# keras.layers.Conv2D(filters, kernel_size, strides=(1, 1), padding='valid', data_format=None, dilation_rate=(1, 1), activation=None, use_bias=True, kernel_initializer='glorot_uniform', bias_initializer='zeros', kernel_regularizer=None, bias_regularizer=None, activity_regularizer=None, kernel_constraint=None, bias_constraint=None)\n",
        "\n",
        "# CONV (32 filters of size [3,3]) => RELU\n",
        "model.add(Conv2D(32, (3, 3), padding='same', input_shape=(IMG_ROWS, IMG_COLS, IMG_CHANNELS)))\n",
        "model.add(Activation('relu'))\n",
        "\n",
        "# max pooling with 0.25 dropout\n",
        "model.add(MaxPooling2D(pool_size=(2, 2)))\n",
        "model.add(Dropout(0.25))\n",
        "\n",
        "# CONV (32 filters of size 3)\n",
        "model.add(Conv2D(32, kernel_size=3, padding='same'))\n",
        "model.add(Activation('relu'))\n",
        "\n",
        "# max pooling with 0.25 dropout\n",
        "model.add(MaxPooling2D(pool_size=(2, 2)))\n",
        "model.add(Dropout(0.25))\n",
        " \n",
        "# CONV (64 filters of size 3)  \n",
        "model.add(Conv2D(64, kernel_size=3, padding='same'))\n",
        "model.add(Activation('relu'))\n",
        "\n",
        "# CONV (64 filters of size 3, strides 3)\n",
        "model.add(Conv2D(64, 3, 3))\n",
        "model.add(Activation('relu'))\n",
        "\n",
        "# max pooling with 0.25 dropout\n",
        "model.add(MaxPooling2D(pool_size=(2, 2)))\n",
        "model.add(Dropout(0.25))\n",
        "\n",
        "# Dense layer of 512 => RELU\n",
        "model.add(Flatten())\n",
        "model.add(Dense(512))\n",
        "model.add(Activation('relu'))\n",
        "\n",
        "# Dense layer of NB_CLASSES=10 => softmax\n",
        "model.add(Dropout(0.5))\n",
        "model.add(Dense(NB_CLASSES))\n",
        "model.add(Activation('softmax'))"
      ],
      "execution_count": 8,
      "outputs": [
        {
          "output_type": "stream",
          "text": [
            "/usr/local/lib/python3.6/dist-packages/ipykernel_launcher.py:27: UserWarning: Update your `Conv2D` call to the Keras 2 API: `Conv2D(64, (3, 3))`\n"
          ],
          "name": "stderr"
        }
      ]
    },
    {
      "metadata": {
        "id": "ubQr5tMCDGwd",
        "colab_type": "code",
        "colab": {
          "autoexec": {
            "startup": false,
            "wait_interval": 0
          },
          "output_extras": [
            {
              "item_id": 1
            }
          ],
          "base_uri": "https://localhost:8080/",
          "height": 816
        },
        "outputId": "af3777fe-facb-47ee-bba0-dbd2ed2e0cc1",
        "executionInfo": {
          "status": "ok",
          "timestamp": 1520689349478,
          "user_tz": -60,
          "elapsed": 441,
          "user": {
            "displayName": "Kishwar Kumar",
            "photoUrl": "https://lh3.googleusercontent.com/a/default-user=s128",
            "userId": "105642459363095416331"
          }
        }
      },
      "cell_type": "code",
      "source": [
        "# print model summary\n",
        "model.summary()"
      ],
      "execution_count": 9,
      "outputs": [
        {
          "output_type": "stream",
          "text": [
            "_________________________________________________________________\n",
            "Layer (type)                 Output Shape              Param #   \n",
            "=================================================================\n",
            "conv2d_1 (Conv2D)            (None, 32, 32, 32)        896       \n",
            "_________________________________________________________________\n",
            "activation_1 (Activation)    (None, 32, 32, 32)        0         \n",
            "_________________________________________________________________\n",
            "max_pooling2d_1 (MaxPooling2 (None, 16, 16, 32)        0         \n",
            "_________________________________________________________________\n",
            "dropout_1 (Dropout)          (None, 16, 16, 32)        0         \n",
            "_________________________________________________________________\n",
            "conv2d_2 (Conv2D)            (None, 16, 16, 32)        9248      \n",
            "_________________________________________________________________\n",
            "activation_2 (Activation)    (None, 16, 16, 32)        0         \n",
            "_________________________________________________________________\n",
            "max_pooling2d_2 (MaxPooling2 (None, 8, 8, 32)          0         \n",
            "_________________________________________________________________\n",
            "dropout_2 (Dropout)          (None, 8, 8, 32)          0         \n",
            "_________________________________________________________________\n",
            "conv2d_3 (Conv2D)            (None, 8, 8, 64)          18496     \n",
            "_________________________________________________________________\n",
            "activation_3 (Activation)    (None, 8, 8, 64)          0         \n",
            "_________________________________________________________________\n",
            "conv2d_4 (Conv2D)            (None, 6, 6, 64)          36928     \n",
            "_________________________________________________________________\n",
            "activation_4 (Activation)    (None, 6, 6, 64)          0         \n",
            "_________________________________________________________________\n",
            "max_pooling2d_3 (MaxPooling2 (None, 3, 3, 64)          0         \n",
            "_________________________________________________________________\n",
            "dropout_3 (Dropout)          (None, 3, 3, 64)          0         \n",
            "_________________________________________________________________\n",
            "flatten_1 (Flatten)          (None, 576)               0         \n",
            "_________________________________________________________________\n",
            "dense_1 (Dense)              (None, 512)               295424    \n",
            "_________________________________________________________________\n",
            "activation_5 (Activation)    (None, 512)               0         \n",
            "_________________________________________________________________\n",
            "dropout_4 (Dropout)          (None, 512)               0         \n",
            "_________________________________________________________________\n",
            "dense_2 (Dense)              (None, 10)                5130      \n",
            "_________________________________________________________________\n",
            "activation_6 (Activation)    (None, 10)                0         \n",
            "=================================================================\n",
            "Total params: 366,122\n",
            "Trainable params: 366,122\n",
            "Non-trainable params: 0\n",
            "_________________________________________________________________\n"
          ],
          "name": "stdout"
        }
      ]
    },
    {
      "metadata": {
        "id": "YFxEChrNDGwm",
        "colab_type": "raw"
      },
      "cell_type": "markdown",
      "source": [
        ""
      ]
    },
    {
      "metadata": {
        "id": "TycL9vYFDGwo",
        "colab_type": "text"
      },
      "cell_type": "markdown",
      "source": [
        "### Let's train the model"
      ]
    },
    {
      "metadata": {
        "id": "ZDLu6K-5DGwp",
        "colab_type": "code",
        "colab": {
          "autoexec": {
            "startup": false,
            "wait_interval": 0
          },
          "output_extras": [
            {
              "item_id": 86
            },
            {
              "item_id": 176
            },
            {
              "item_id": 217
            },
            {
              "item_id": 239
            },
            {
              "item_id": 260
            },
            {
              "item_id": 281
            },
            {
              "item_id": 302
            },
            {
              "item_id": 342
            },
            {
              "item_id": 353
            },
            {
              "item_id": 354
            }
          ],
          "base_uri": "https://localhost:8080/",
          "height": 921
        },
        "outputId": "afd383d7-c90a-4a97-dcdb-d022ec704050",
        "executionInfo": {
          "status": "ok",
          "timestamp": 1520689521581,
          "user_tz": -60,
          "elapsed": 171965,
          "user": {
            "displayName": "Kishwar Kumar",
            "photoUrl": "https://lh3.googleusercontent.com/a/default-user=s128",
            "userId": "105642459363095416331"
          }
        }
      },
      "cell_type": "code",
      "source": [
        "# train it\n",
        "model.compile(loss='categorical_crossentropy', optimizer=OPTIM, metrics=['accuracy'])\n",
        "model.fit(X_train, Y_train, batch_size=BATCH_SIZE, epochs=NB_EPOCH, validation_split=VALIDATION_SPLIT, verbose=VERBOSE)"
      ],
      "execution_count": 10,
      "outputs": [
        {
          "output_type": "stream",
          "text": [
            "Train on 40000 samples, validate on 10000 samples\n",
            "Epoch 1/25\n",
            "40000/40000 [==============================] - 8s 207us/step - loss: 1.9161 - acc: 0.2933 - val_loss: 1.7209 - val_acc: 0.3733\n",
            "Epoch 2/25\n",
            "40000/40000 [==============================] - 7s 172us/step - loss: 1.5677 - acc: 0.4274 - val_loss: 1.3531 - val_acc: 0.5139\n",
            "Epoch 3/25\n",
            "40000/40000 [==============================] - 7s 170us/step - loss: 1.4100 - acc: 0.4916 - val_loss: 1.2847 - val_acc: 0.5296\n",
            "Epoch 4/25\n",
            " 6912/40000 [====>.........................] - ETA: 5s - loss: 1.3273 - acc: 0.5168"
          ],
          "name": "stdout"
        },
        {
          "output_type": "stream",
          "text": [
            "40000/40000 [==============================] - 7s 171us/step - loss: 1.3050 - acc: 0.5309 - val_loss: 1.2012 - val_acc: 0.5733\n",
            "Epoch 5/25\n",
            "40000/40000 [==============================] - 7s 169us/step - loss: 1.2219 - acc: 0.5645 - val_loss: 1.0846 - val_acc: 0.6155\n",
            "Epoch 6/25\n",
            "40000/40000 [==============================] - 7s 170us/step - loss: 1.1515 - acc: 0.5901 - val_loss: 1.1023 - val_acc: 0.6198\n",
            "Epoch 7/25\n",
            "23936/40000 [================>.............] - ETA: 2s - loss: 1.0999 - acc: 0.6128"
          ],
          "name": "stdout"
        },
        {
          "output_type": "stream",
          "text": [
            "40000/40000 [==============================] - 7s 168us/step - loss: 1.0993 - acc: 0.6120 - val_loss: 0.9564 - val_acc: 0.6645\n",
            "Epoch 8/25\n",
            "40000/40000 [==============================] - 7s 169us/step - loss: 1.0562 - acc: 0.6281 - val_loss: 0.9646 - val_acc: 0.6623\n",
            "Epoch 9/25\n",
            "40000/40000 [==============================] - 7s 168us/step - loss: 1.0121 - acc: 0.6454 - val_loss: 0.9049 - val_acc: 0.6856\n",
            "Epoch 10/25\n",
            "27008/40000 [===================>..........] - ETA: 2s - loss: 0.9837 - acc: 0.6528"
          ],
          "name": "stdout"
        },
        {
          "output_type": "stream",
          "text": [
            "40000/40000 [==============================] - 7s 169us/step - loss: 0.9834 - acc: 0.6539 - val_loss: 0.9244 - val_acc: 0.6875\n",
            "Epoch 11/25\n",
            "40000/40000 [==============================] - 7s 169us/step - loss: 0.9584 - acc: 0.6632 - val_loss: 0.8849 - val_acc: 0.6957\n",
            "Epoch 12/25\n",
            "40000/40000 [==============================] - 7s 169us/step - loss: 0.9358 - acc: 0.6738 - val_loss: 0.8270 - val_acc: 0.7111\n",
            "Epoch 13/25\n",
            "27008/40000 [===================>..........] - ETA: 2s - loss: 0.9121 - acc: 0.6794"
          ],
          "name": "stdout"
        },
        {
          "output_type": "stream",
          "text": [
            "40000/40000 [==============================] - 7s 169us/step - loss: 0.9114 - acc: 0.6799 - val_loss: 0.8532 - val_acc: 0.7037\n",
            "Epoch 14/25\n",
            "40000/40000 [==============================] - 7s 169us/step - loss: 0.8897 - acc: 0.6862 - val_loss: 0.9549 - val_acc: 0.6817\n",
            "Epoch 15/25\n",
            "40000/40000 [==============================] - 7s 169us/step - loss: 0.8753 - acc: 0.6955 - val_loss: 0.8595 - val_acc: 0.7083\n",
            "Epoch 16/25\n",
            "26624/40000 [==================>...........] - ETA: 2s - loss: 0.8571 - acc: 0.6991"
          ],
          "name": "stdout"
        },
        {
          "output_type": "stream",
          "text": [
            "40000/40000 [==============================] - 7s 170us/step - loss: 0.8582 - acc: 0.6993 - val_loss: 0.8145 - val_acc: 0.7185\n",
            "Epoch 17/25\n",
            "40000/40000 [==============================] - 7s 170us/step - loss: 0.8460 - acc: 0.7048 - val_loss: 0.8302 - val_acc: 0.7127\n",
            "Epoch 18/25\n",
            "40000/40000 [==============================] - 7s 171us/step - loss: 0.8346 - acc: 0.7078 - val_loss: 0.8701 - val_acc: 0.7007\n",
            "Epoch 19/25\n",
            "26624/40000 [==================>...........] - ETA: 2s - loss: 0.8259 - acc: 0.7127"
          ],
          "name": "stdout"
        },
        {
          "output_type": "stream",
          "text": [
            "40000/40000 [==============================] - 7s 170us/step - loss: 0.8336 - acc: 0.7096 - val_loss: 0.7656 - val_acc: 0.7351\n",
            "Epoch 20/25\n",
            "40000/40000 [==============================] - 7s 170us/step - loss: 0.8155 - acc: 0.7145 - val_loss: 0.8511 - val_acc: 0.7126\n",
            "Epoch 21/25\n",
            "40000/40000 [==============================] - 7s 169us/step - loss: 0.8086 - acc: 0.7210 - val_loss: 0.8001 - val_acc: 0.7281\n",
            "Epoch 22/25\n",
            "27008/40000 [===================>..........] - ETA: 2s - loss: 0.7937 - acc: 0.7226"
          ],
          "name": "stdout"
        },
        {
          "output_type": "stream",
          "text": [
            "40000/40000 [==============================] - 7s 169us/step - loss: 0.7978 - acc: 0.7211 - val_loss: 0.7982 - val_acc: 0.7308\n",
            "Epoch 23/25\n",
            "40000/40000 [==============================] - 7s 170us/step - loss: 0.8001 - acc: 0.7219 - val_loss: 0.8295 - val_acc: 0.7213\n",
            "Epoch 24/25\n",
            "40000/40000 [==============================] - 7s 170us/step - loss: 0.7875 - acc: 0.7254 - val_loss: 0.7894 - val_acc: 0.7284\n",
            "Epoch 25/25\n",
            "27008/40000 [===================>..........] - ETA: 2s - loss: 0.7772 - acc: 0.7307"
          ],
          "name": "stdout"
        },
        {
          "output_type": "stream",
          "text": [
            "40000/40000 [==============================] - 7s 168us/step - loss: 0.7843 - acc: 0.7275 - val_loss: 0.7417 - val_acc: 0.7441\n"
          ],
          "name": "stdout"
        },
        {
          "output_type": "execute_result",
          "data": {
            "text/plain": [
              "<keras.callbacks.History at 0x7f186a577cf8>"
            ]
          },
          "metadata": {
            "tags": []
          },
          "execution_count": 10
        }
      ]
    },
    {
      "metadata": {
        "id": "fHvzWY3rDGwu",
        "colab_type": "raw"
      },
      "cell_type": "markdown",
      "source": [
        ""
      ]
    },
    {
      "metadata": {
        "id": "P5I3uomUDGww",
        "colab_type": "text"
      },
      "cell_type": "markdown",
      "source": [
        "### Evaluate it"
      ]
    },
    {
      "metadata": {
        "id": "LUvHpvu2DGww",
        "colab_type": "code",
        "colab": {
          "autoexec": {
            "startup": false,
            "wait_interval": 0
          },
          "output_extras": [
            {
              "item_id": 3
            }
          ],
          "base_uri": "https://localhost:8080/",
          "height": 68
        },
        "outputId": "53fc5cdb-e5ea-44a7-8eee-6ccf4c3c699a",
        "executionInfo": {
          "status": "ok",
          "timestamp": 1520689522651,
          "user_tz": -60,
          "elapsed": 1035,
          "user": {
            "displayName": "Kishwar Kumar",
            "photoUrl": "https://lh3.googleusercontent.com/a/default-user=s128",
            "userId": "105642459363095416331"
          }
        }
      },
      "cell_type": "code",
      "source": [
        "score = model.evaluate(X_test, Y_test, batch_size=BATCH_SIZE, verbose=VERBOSE)\n",
        "print(\"Test score:\", score[0])\n",
        "print('Test accuracy:', score[1])"
      ],
      "execution_count": 11,
      "outputs": [
        {
          "output_type": "stream",
          "text": [
            "10000/10000 [==============================] - 1s 54us/step\n",
            "Test score: 0.7556726346015931\n",
            "Test accuracy: 0.7385\n"
          ],
          "name": "stdout"
        }
      ]
    },
    {
      "metadata": {
        "id": "0Qq5o_93EeKo",
        "colab_type": "text"
      },
      "cell_type": "markdown",
      "source": [
        "### **Let's save model**"
      ]
    },
    {
      "metadata": {
        "id": "3zUPERT5DGw0",
        "colab_type": "code",
        "colab": {
          "autoexec": {
            "startup": false,
            "wait_interval": 0
          }
        }
      },
      "cell_type": "code",
      "source": [
        "# save model on disk\n",
        "model.save('keras_CIFAR10.h5')"
      ],
      "execution_count": 0,
      "outputs": []
    },
    {
      "metadata": {
        "id": "jXwlHprTEXZK",
        "colab_type": "code",
        "colab": {
          "autoexec": {
            "startup": false,
            "wait_interval": 0
          }
        }
      },
      "cell_type": "code",
      "source": [
        ""
      ],
      "execution_count": 0,
      "outputs": []
    },
    {
      "metadata": {
        "id": "eLmHLbh1FkPO",
        "colab_type": "text"
      },
      "cell_type": "markdown",
      "source": [
        "### We need to increase training data.. \n",
        "### Data Augmentation!!"
      ]
    },
    {
      "metadata": {
        "id": "pwd-859IF4Tf",
        "colab_type": "code",
        "colab": {
          "autoexec": {
            "startup": false,
            "wait_interval": 0
          }
        }
      },
      "cell_type": "code",
      "source": [
        "# imports\n",
        "from keras.preprocessing.image import ImageDataGenerator\n",
        "import numpy as np"
      ],
      "execution_count": 0,
      "outputs": []
    },
    {
      "metadata": {
        "id": "1kxEaCMwGF7f",
        "colab_type": "code",
        "colab": {
          "autoexec": {
            "startup": false,
            "wait_interval": 0
          }
        }
      },
      "cell_type": "code",
      "source": [
        "# constants\n",
        "NUM_TO_AUGMENT=5"
      ],
      "execution_count": 0,
      "outputs": []
    },
    {
      "metadata": {
        "id": "b9Lxv8TiGQEy",
        "colab_type": "code",
        "colab": {
          "autoexec": {
            "startup": false,
            "wait_interval": 0
          },
          "output_extras": [
            {
              "item_id": 1
            }
          ],
          "base_uri": "https://localhost:8080/",
          "height": 34
        },
        "outputId": "8aa36ae2-c2c9-4be7-99f1-d4edf02860f3",
        "executionInfo": {
          "status": "ok",
          "timestamp": 1520689525472,
          "user_tz": -60,
          "elapsed": 451,
          "user": {
            "displayName": "Kishwar Kumar",
            "photoUrl": "https://lh3.googleusercontent.com/a/default-user=s128",
            "userId": "105642459363095416331"
          }
        }
      },
      "cell_type": "code",
      "source": [
        "# augumenting\n",
        "print(\"Augmenting training set images...\")\n",
        "datagen = ImageDataGenerator(rotation_range=40, width_shift_range=0.2, \n",
        "                             height_shift_range=0.2, zoom_range=0.2, \n",
        "                             horizontal_flip=True,fill_mode='nearest')"
      ],
      "execution_count": 15,
      "outputs": [
        {
          "output_type": "stream",
          "text": [
            "Augmenting training set images...\n"
          ],
          "name": "stdout"
        }
      ]
    },
    {
      "metadata": {
        "id": "mgAUvkcwGbKg",
        "colab_type": "code",
        "colab": {
          "autoexec": {
            "startup": false,
            "wait_interval": 0
          }
        }
      },
      "cell_type": "code",
      "source": [
        "datagen.fit(X_train)"
      ],
      "execution_count": 0,
      "outputs": []
    },
    {
      "metadata": {
        "id": "ClmjgfioHq04",
        "colab_type": "text"
      },
      "cell_type": "markdown",
      "source": [
        "### Let's retrain the model"
      ]
    },
    {
      "metadata": {
        "id": "ueEVfhihHVj_",
        "colab_type": "code",
        "colab": {
          "autoexec": {
            "startup": false,
            "wait_interval": 0
          },
          "output_extras": [
            {
              "item_id": 1
            },
            {
              "item_id": 2
            },
            {
              "item_id": 190
            },
            {
              "item_id": 327
            },
            {
              "item_id": 505
            },
            {
              "item_id": 635
            },
            {
              "item_id": 811
            },
            {
              "item_id": 996
            },
            {
              "item_id": 1125
            },
            {
              "item_id": 1302
            },
            {
              "item_id": 1421
            },
            {
              "item_id": 1594
            },
            {
              "item_id": 1711
            },
            {
              "item_id": 1879
            },
            {
              "item_id": 2004
            },
            {
              "item_id": 2178
            },
            {
              "item_id": 2361
            },
            {
              "item_id": 2468
            }
          ],
          "base_uri": "https://localhost:8080/",
          "height": 972
        },
        "outputId": "e68b1991-9d17-49d6-971f-c8328b739bcc",
        "executionInfo": {
          "status": "ok",
          "timestamp": 1520690172309,
          "user_tz": -60,
          "elapsed": 645814,
          "user": {
            "displayName": "Kishwar Kumar",
            "photoUrl": "https://lh3.googleusercontent.com/a/default-user=s128",
            "userId": "105642459363095416331"
          }
        }
      },
      "cell_type": "code",
      "source": [
        "# train\n",
        "history = model.fit_generator(datagen.flow(X_train, Y_train, \n",
        "                                           batch_size=BATCH_SIZE), \n",
        "                              samples_per_epoch=X_train.shape[0], \n",
        "                              epochs=NB_EPOCH, verbose=VERBOSE)\n",
        "\n",
        "score = model.evaluate(X_test, Y_test, batch_size=BATCH_SIZE, verbose=VERBOSE)\n",
        "print(\"Test score:\", score[0])\n",
        "print('Test accuracy:', score[1])"
      ],
      "execution_count": 17,
      "outputs": [
        {
          "output_type": "stream",
          "text": [
            "Epoch 1/25\n",
            "  2/390 [..............................] - ETA: 27s - loss: 1.7866 - acc: 0.4102"
          ],
          "name": "stdout"
        },
        {
          "output_type": "stream",
          "text": [
            "/usr/local/lib/python3.6/dist-packages/ipykernel_launcher.py:4: UserWarning: Update your `fit_generator` call to the Keras 2 API: `fit_generator(<keras.pre..., epochs=25, verbose=1, steps_per_epoch=390)`\n",
            "  after removing the cwd from sys.path.\n"
          ],
          "name": "stderr"
        },
        {
          "output_type": "stream",
          "text": [
            "390/390 [==============================] - 26s 67ms/step - loss: 1.4320 - acc: 0.4967\n",
            "Epoch 2/25\n",
            "328/390 [========================>.....] - ETA: 4s - loss: 1.3841 - acc: 0.5215"
          ],
          "name": "stdout"
        },
        {
          "output_type": "stream",
          "text": [
            "390/390 [==============================] - 26s 67ms/step - loss: 1.3823 - acc: 0.5213\n",
            "Epoch 3/25\n",
            "390/390 [==============================] - 26s 67ms/step - loss: 1.3575 - acc: 0.5272\n",
            "Epoch 4/25\n",
            " 68/390 [====>.........................] - ETA: 21s - loss: 1.3442 - acc: 0.5378"
          ],
          "name": "stdout"
        },
        {
          "output_type": "stream",
          "text": [
            "390/390 [==============================] - 26s 67ms/step - loss: 1.3490 - acc: 0.5329\n",
            "Epoch 5/25\n",
            "367/390 [===========================>..] - ETA: 1s - loss: 1.3362 - acc: 0.5369"
          ],
          "name": "stdout"
        },
        {
          "output_type": "stream",
          "text": [
            "390/390 [==============================] - 26s 66ms/step - loss: 1.3367 - acc: 0.5368\n",
            "Epoch 6/25\n",
            "390/390 [==============================] - 26s 66ms/step - loss: 1.3317 - acc: 0.5391\n",
            "Epoch 7/25\n",
            " 89/390 [=====>........................] - ETA: 19s - loss: 1.3438 - acc: 0.5329"
          ],
          "name": "stdout"
        },
        {
          "output_type": "stream",
          "text": [
            "390/390 [==============================] - 26s 66ms/step - loss: 1.3315 - acc: 0.5387\n",
            "Epoch 8/25\n",
            "390/390 [==============================] - 26s 66ms/step - loss: 1.3285 - acc: 0.5387\n",
            "Epoch 9/25\n",
            "  5/390 [..............................] - ETA: 24s - loss: 1.3208 - acc: 0.5484"
          ],
          "name": "stdout"
        },
        {
          "output_type": "stream",
          "text": [
            "390/390 [==============================] - 26s 66ms/step - loss: 1.3206 - acc: 0.5400\n",
            "Epoch 10/25\n",
            "342/390 [=========================>....] - ETA: 3s - loss: 1.3247 - acc: 0.5420"
          ],
          "name": "stdout"
        },
        {
          "output_type": "stream",
          "text": [
            "390/390 [==============================] - 26s 67ms/step - loss: 1.3202 - acc: 0.5434\n",
            "Epoch 11/25\n",
            "390/390 [==============================] - 26s 66ms/step - loss: 1.3192 - acc: 0.5442\n",
            "Epoch 12/25\n",
            " 71/390 [====>.........................] - ETA: 21s - loss: 1.3311 - acc: 0.5399"
          ],
          "name": "stdout"
        },
        {
          "output_type": "stream",
          "text": [
            "390/390 [==============================] - 26s 65ms/step - loss: 1.3163 - acc: 0.5443\n",
            "Epoch 13/25\n",
            "384/390 [============================>.] - ETA: 0s - loss: 1.3130 - acc: 0.5454"
          ],
          "name": "stdout"
        },
        {
          "output_type": "stream",
          "text": [
            "390/390 [==============================] - 26s 66ms/step - loss: 1.3128 - acc: 0.5451\n",
            "Epoch 14/25\n",
            "390/390 [==============================] - 26s 66ms/step - loss: 1.3051 - acc: 0.5477\n",
            "Epoch 15/25\n",
            " 77/390 [====>.........................] - ETA: 21s - loss: 1.3098 - acc: 0.5463"
          ],
          "name": "stdout"
        },
        {
          "output_type": "stream",
          "text": [
            "390/390 [==============================] - 26s 67ms/step - loss: 1.3127 - acc: 0.5447\n",
            "Epoch 16/25\n",
            "377/390 [============================>.] - ETA: 0s - loss: 1.3171 - acc: 0.5475\b\b\b\b\b\b\b\b\b\b\b\b\b\b\b\b\b\b\b\b\b\b\b\b\b\b\b\b\b\b\b\b\b\b\b\b\b\b\b\b\b\b\b\b\b\b\b\b\b\b\b\b\b\b\b\b\b\b\b\b\b\b\b\b\b\b\b\b\b\b\b\b\b\b\b\b\b\b\b"
          ],
          "name": "stdout"
        },
        {
          "output_type": "stream",
          "text": [
            "390/390 [==============================] - 26s 66ms/step - loss: 1.3178 - acc: 0.5476\n",
            "Epoch 17/25\n",
            "390/390 [==============================] - 26s 66ms/step - loss: 1.3149 - acc: 0.5419\n",
            "Epoch 18/25\n",
            " 74/390 [====>.........................] - ETA: 21s - loss: 1.3294 - acc: 0.5384\b\b\b\b\b\b\b\b\b\b\b\b\b\b\b\b\b\b\b\b\b\b\b\b\b\b\b\b\b\b\b\b\b\b\b\b\b\b\b\b\b\b\b\b\b\b\b\b\b\b\b\b\b\b\b\b\b\b\b\b\b\b\b\b\b\b\b\b\b\b\b\b\b\b\b\b\b\b\b\b"
          ],
          "name": "stdout"
        },
        {
          "output_type": "stream",
          "text": [
            "390/390 [==============================] - 26s 66ms/step - loss: 1.3133 - acc: 0.5447\n",
            "Epoch 19/25\n",
            "363/390 [==========================>...] - ETA: 1s - loss: 1.3173 - acc: 0.5440"
          ],
          "name": "stdout"
        },
        {
          "output_type": "stream",
          "text": [
            "390/390 [==============================] - 26s 66ms/step - loss: 1.3174 - acc: 0.5438\n",
            "Epoch 20/25\n",
            "390/390 [==============================] - 26s 66ms/step - loss: 1.3149 - acc: 0.5458\n",
            "Epoch 21/25\n",
            " 85/390 [=====>........................] - ETA: 19s - loss: 1.3031 - acc: 0.5543"
          ],
          "name": "stdout"
        },
        {
          "output_type": "stream",
          "text": [
            "390/390 [==============================] - 26s 66ms/step - loss: 1.3123 - acc: 0.5470\n",
            "Epoch 22/25\n",
            "390/390 [==============================] - 26s 66ms/step - loss: 1.3221 - acc: 0.5430\n",
            "Epoch 23/25\n",
            "  2/390 [..............................] - ETA: 24s - loss: 1.3021 - acc: 0.5781"
          ],
          "name": "stdout"
        },
        {
          "output_type": "stream",
          "text": [
            "390/390 [==============================] - 26s 66ms/step - loss: 1.3204 - acc: 0.5446\n",
            "Epoch 24/25\n",
            "358/390 [==========================>...] - ETA: 2s - loss: 1.3270 - acc: 0.5446"
          ],
          "name": "stdout"
        },
        {
          "output_type": "stream",
          "text": [
            "390/390 [==============================] - 26s 65ms/step - loss: 1.3283 - acc: 0.5436\n",
            "Epoch 25/25\n",
            "390/390 [==============================] - 26s 66ms/step - loss: 1.3210 - acc: 0.5454\n",
            "10000/10000 [==============================] - 1s 69us/step\n",
            "Test score: 1.1982812564849854\n",
            "Test accuracy: 0.5995\n"
          ],
          "name": "stdout"
        }
      ]
    },
    {
      "metadata": {
        "id": "Wa9NKCWRIKGb",
        "colab_type": "code",
        "colab": {
          "autoexec": {
            "startup": false,
            "wait_interval": 0
          },
          "output_extras": [
            {
              "item_id": 3
            }
          ],
          "base_uri": "https://localhost:8080/",
          "height": 68
        },
        "outputId": "fff66137-168b-4bf8-c37f-f54703f24739",
        "executionInfo": {
          "status": "ok",
          "timestamp": 1520690174395,
          "user_tz": -60,
          "elapsed": 960,
          "user": {
            "displayName": "Kishwar Kumar",
            "photoUrl": "https://lh3.googleusercontent.com/a/default-user=s128",
            "userId": "105642459363095416331"
          }
        }
      },
      "cell_type": "code",
      "source": [
        "score = model.evaluate(X_test, Y_test, batch_size=BATCH_SIZE, verbose=VERBOSE)\n",
        "print(\"Test score:\", score[0])\n",
        "print('Test accuracy:', score[1])"
      ],
      "execution_count": 19,
      "outputs": [
        {
          "output_type": "stream",
          "text": [
            "10000/10000 [==============================] - 1s 61us/step\n",
            "Test score: 1.1982812564849854\n",
            "Test accuracy: 0.5995\n"
          ],
          "name": "stdout"
        }
      ]
    },
    {
      "metadata": {
        "id": "nOl_ATSHKcfq",
        "colab_type": "code",
        "colab": {
          "autoexec": {
            "startup": false,
            "wait_interval": 0
          },
          "output_extras": [
            {
              "item_id": 1
            }
          ],
          "base_uri": "https://localhost:8080/",
          "height": 34
        },
        "outputId": "5950bec4-7564-4333-80c5-a667a188ea65",
        "executionInfo": {
          "status": "ok",
          "timestamp": 1520690174931,
          "user_tz": -60,
          "elapsed": 520,
          "user": {
            "displayName": "Kishwar Kumar",
            "photoUrl": "https://lh3.googleusercontent.com/a/default-user=s128",
            "userId": "105642459363095416331"
          }
        }
      },
      "cell_type": "code",
      "source": [
        "# list all data in history\n",
        "print(history.history.keys())"
      ],
      "execution_count": 20,
      "outputs": [
        {
          "output_type": "stream",
          "text": [
            "dict_keys(['loss', 'acc'])\n"
          ],
          "name": "stdout"
        }
      ]
    },
    {
      "metadata": {
        "id": "n-zSVlELLfJh",
        "colab_type": "code",
        "colab": {
          "autoexec": {
            "startup": false,
            "wait_interval": 0
          }
        }
      },
      "cell_type": "code",
      "source": [
        ""
      ],
      "execution_count": 0,
      "outputs": []
    }
  ]
}