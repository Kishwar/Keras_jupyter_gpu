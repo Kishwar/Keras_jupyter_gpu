{
  "nbformat": 4,
  "nbformat_minor": 0,
  "metadata": {
    "colab": {
      "name": "Keras_LeNet_jupyter_Notebook.ipynb",
      "version": "0.3.2",
      "views": {},
      "default_view": {},
      "provenance": [],
      "collapsed_sections": []
    },
    "kernelspec": {
      "display_name": "Python 3",
      "language": "python",
      "name": "python3"
    },
    "accelerator": "GPU"
  },
  "cells": [
    {
      "metadata": {
        "id": "0ZcqV2f-GO41",
        "colab_type": "text"
      },
      "cell_type": "markdown",
      "source": [
        "# RUN WITH PYTHON 3 and LATEST TENSORFLOW"
      ]
    },
    {
      "metadata": {
        "id": "HjAlA9YhGYE4",
        "colab_type": "code",
        "colab": {
          "autoexec": {
            "startup": false,
            "wait_interval": 0
          },
          "output_extras": [
            {
              "item_id": 2
            }
          ],
          "base_uri": "https://localhost:8080/",
          "height": 102
        },
        "outputId": "9e44a9ea-9189-4d3f-971a-115f7f9f7f10",
        "executionInfo": {
          "status": "ok",
          "timestamp": 1520672992110,
          "user_tz": -60,
          "elapsed": 2210,
          "user": {
            "displayName": "Kishwar Kumar",
            "photoUrl": "https://lh3.googleusercontent.com/a/default-user=s128",
            "userId": "105642459363095416331"
          }
        }
      },
      "cell_type": "code",
      "source": [
        "# for google cloud gpu only\n",
        "!pip install keras"
      ],
      "execution_count": 107,
      "outputs": [
        {
          "output_type": "stream",
          "text": [
            "Requirement already satisfied: keras in /usr/local/lib/python3.6/dist-packages\n",
            "Requirement already satisfied: pyyaml in /usr/local/lib/python3.6/dist-packages (from keras)\n",
            "Requirement already satisfied: scipy>=0.14 in /usr/local/lib/python3.6/dist-packages (from keras)\n",
            "Requirement already satisfied: six>=1.9.0 in /usr/local/lib/python3.6/dist-packages (from keras)\n",
            "Requirement already satisfied: numpy>=1.9.1 in /usr/local/lib/python3.6/dist-packages (from keras)\n"
          ],
          "name": "stdout"
        }
      ]
    },
    {
      "metadata": {
        "id": "gmnVu7SwGO45",
        "colab_type": "code",
        "colab": {
          "autoexec": {
            "startup": false,
            "wait_interval": 0
          }
        }
      },
      "cell_type": "code",
      "source": [
        "# import the necessary packages\n",
        "from keras import backend as K\n",
        "from keras.models import Sequential\n",
        "from keras.layers.convolutional import Conv2D\n",
        "from keras.layers.convolutional import MaxPooling2D\n",
        "from keras.layers.core import Activation\n",
        "from keras.layers.core import Flatten\n",
        "from keras.layers.core import Dense\n",
        "from keras.datasets import mnist\n",
        "from keras.utils import np_utils\n",
        "from keras.optimizers import SGD, RMSprop, Adam\n",
        "import numpy as np\n",
        "\n",
        "import matplotlib.pyplot as plt"
      ],
      "execution_count": 0,
      "outputs": []
    },
    {
      "metadata": {
        "id": "g-T3WBi9GO5F",
        "colab_type": "code",
        "colab": {
          "autoexec": {
            "startup": false,
            "wait_interval": 0
          }
        }
      },
      "cell_type": "code",
      "source": [
        "np.random.seed(1671)  # for reproducibility"
      ],
      "execution_count": 0,
      "outputs": []
    },
    {
      "metadata": {
        "id": "iyebny-iGO5K",
        "colab_type": "code",
        "colab": {
          "autoexec": {
            "startup": false,
            "wait_interval": 0
          }
        }
      },
      "cell_type": "code",
      "source": [
        "#define the convnet \n",
        "class LeNet:\n",
        "    @staticmethod\n",
        "    def build(input_shape, classes):\n",
        "        model = Sequential()\n",
        "        \n",
        "        # CONV (20 filters, kernel size 5, padding = same) => RELU => POOL\n",
        "        model.add(Conv2D(20, kernel_size=5, padding=\"same\", input_shape=input_shape))\n",
        "        model.add(Activation(\"relu\"))\n",
        "        model.add(MaxPooling2D(pool_size=(2, 2), strides=(2, 2)))\n",
        "        \n",
        "        # CONV (50 filters, kernel size 5, padding = same) => RELU => POOL\n",
        "        model.add(Conv2D(50, kernel_size=5, padding=\"same\"))\n",
        "        model.add(Activation(\"relu\"))\n",
        "        model.add(MaxPooling2D(pool_size=(2, 2), strides=(2, 2)))\n",
        "        \n",
        "        # Flatten => RELU layers\n",
        "        model.add(Flatten())\n",
        "        model.add(Dense(500))\n",
        "        model.add(Activation(\"relu\"))\n",
        "        \n",
        "        # a softmax classifier\n",
        "        model.add(Dense(classes))\n",
        "        model.add(Activation(\"softmax\"))\n",
        "\n",
        "        return model"
      ],
      "execution_count": 0,
      "outputs": []
    },
    {
      "metadata": {
        "id": "luTNzPliGO5N",
        "colab_type": "code",
        "colab": {
          "autoexec": {
            "startup": false,
            "wait_interval": 0
          }
        }
      },
      "cell_type": "code",
      "source": [
        "# network and training\n",
        "NB_EPOCH = 25  # 1 for CPU 25 for GPU\n",
        "BATCH_SIZE = 128\n",
        "VERBOSE = 1\n",
        "OPTIMIZER = Adam()\n",
        "VALIDATION_SPLIT=0.2"
      ],
      "execution_count": 0,
      "outputs": []
    },
    {
      "metadata": {
        "id": "yzG08b2xGO5R",
        "colab_type": "code",
        "colab": {
          "autoexec": {
            "startup": false,
            "wait_interval": 0
          }
        }
      },
      "cell_type": "code",
      "source": [
        "IMG_ROWS, IMG_COLS = 28, 28 # input image dimensions\n",
        "NB_CLASSES = 10  # number of outputs = number of digits\n",
        "INPUT_SHAPE = (1, IMG_ROWS, IMG_COLS)"
      ],
      "execution_count": 0,
      "outputs": []
    },
    {
      "metadata": {
        "id": "EcOpOtF3GO5W",
        "colab_type": "code",
        "colab": {
          "autoexec": {
            "startup": false,
            "wait_interval": 0
          }
        }
      },
      "cell_type": "code",
      "source": [
        "# data: shuffled and split between train and test sets\n",
        "(X_train, y_train), (X_test, y_test) = mnist.load_data()\n",
        "K.set_image_dim_ordering(\"th\")"
      ],
      "execution_count": 0,
      "outputs": []
    },
    {
      "metadata": {
        "id": "f4ZtQyGGGO5a",
        "colab_type": "code",
        "colab": {
          "autoexec": {
            "startup": false,
            "wait_interval": 0
          }
        }
      },
      "cell_type": "code",
      "source": [
        "# consider them as float and normalize\n",
        "X_train = X_train.astype('float32')\n",
        "X_test = X_test.astype('float32')\n",
        "X_train /= 255 \n",
        "X_test /= 255"
      ],
      "execution_count": 0,
      "outputs": []
    },
    {
      "metadata": {
        "id": "KVjAOctuGO5e",
        "colab_type": "code",
        "colab": {
          "autoexec": {
            "startup": false,
            "wait_interval": 0
          },
          "output_extras": [
            {
              "item_id": 1
            }
          ],
          "base_uri": "https://localhost:8080/",
          "height": 34
        },
        "outputId": "318c26b3-982e-452f-f1b7-1e1dd25c8129",
        "executionInfo": {
          "status": "ok",
          "timestamp": 1520672997141,
          "user_tz": -60,
          "elapsed": 565,
          "user": {
            "displayName": "Kishwar Kumar",
            "photoUrl": "https://lh3.googleusercontent.com/a/default-user=s128",
            "userId": "105642459363095416331"
          }
        }
      },
      "cell_type": "code",
      "source": [
        "X_train.shape"
      ],
      "execution_count": 115,
      "outputs": [
        {
          "output_type": "execute_result",
          "data": {
            "text/plain": [
              "(60000, 28, 28)"
            ]
          },
          "metadata": {
            "tags": []
          },
          "execution_count": 115
        }
      ]
    },
    {
      "metadata": {
        "id": "fEG5SiVTGO5q",
        "colab_type": "code",
        "colab": {
          "autoexec": {
            "startup": false,
            "wait_interval": 0
          },
          "output_extras": [
            {
              "item_id": 1
            }
          ],
          "base_uri": "https://localhost:8080/",
          "height": 34
        },
        "outputId": "13a391b8-a3fe-48e4-c669-ce5a5c69db81",
        "executionInfo": {
          "status": "ok",
          "timestamp": 1520672997724,
          "user_tz": -60,
          "elapsed": 524,
          "user": {
            "displayName": "Kishwar Kumar",
            "photoUrl": "https://lh3.googleusercontent.com/a/default-user=s128",
            "userId": "105642459363095416331"
          }
        }
      },
      "cell_type": "code",
      "source": [
        "y_train.shape"
      ],
      "execution_count": 116,
      "outputs": [
        {
          "output_type": "execute_result",
          "data": {
            "text/plain": [
              "(60000,)"
            ]
          },
          "metadata": {
            "tags": []
          },
          "execution_count": 116
        }
      ]
    },
    {
      "metadata": {
        "id": "rIAS7-uyGO50",
        "colab_type": "code",
        "colab": {
          "autoexec": {
            "startup": false,
            "wait_interval": 0
          }
        }
      },
      "cell_type": "code",
      "source": [
        "# we need a 60K x [1 x 28 x 28] shape as input to the CONVNET\n",
        "X_train = X_train[:, np.newaxis, :, :]\n",
        "X_test = X_test[:, np.newaxis, :, :]"
      ],
      "execution_count": 0,
      "outputs": []
    },
    {
      "metadata": {
        "id": "jidTbcwbGO57",
        "colab_type": "code",
        "colab": {
          "autoexec": {
            "startup": false,
            "wait_interval": 0
          },
          "output_extras": [
            {
              "item_id": 1
            }
          ],
          "base_uri": "https://localhost:8080/",
          "height": 34
        },
        "outputId": "11adbd57-cc7a-4232-9937-b1d17b09f2bb",
        "executionInfo": {
          "status": "ok",
          "timestamp": 1520672998861,
          "user_tz": -60,
          "elapsed": 535,
          "user": {
            "displayName": "Kishwar Kumar",
            "photoUrl": "https://lh3.googleusercontent.com/a/default-user=s128",
            "userId": "105642459363095416331"
          }
        }
      },
      "cell_type": "code",
      "source": [
        "X_train.shape"
      ],
      "execution_count": 118,
      "outputs": [
        {
          "output_type": "execute_result",
          "data": {
            "text/plain": [
              "(60000, 1, 28, 28)"
            ]
          },
          "metadata": {
            "tags": []
          },
          "execution_count": 118
        }
      ]
    },
    {
      "metadata": {
        "id": "ftTmYsp6GO6E",
        "colab_type": "code",
        "colab": {
          "autoexec": {
            "startup": false,
            "wait_interval": 0
          },
          "output_extras": [
            {
              "item_id": 1
            }
          ],
          "base_uri": "https://localhost:8080/",
          "height": 51
        },
        "outputId": "c766ad33-a23f-4e87-c59d-f5213236161f",
        "executionInfo": {
          "status": "ok",
          "timestamp": 1520672999436,
          "user_tz": -60,
          "elapsed": 529,
          "user": {
            "displayName": "Kishwar Kumar",
            "photoUrl": "https://lh3.googleusercontent.com/a/default-user=s128",
            "userId": "105642459363095416331"
          }
        }
      },
      "cell_type": "code",
      "source": [
        "print(X_train.shape[0], 'train samples')\n",
        "print(X_test.shape[0], 'test samples')"
      ],
      "execution_count": 119,
      "outputs": [
        {
          "output_type": "stream",
          "text": [
            "60000 train samples\n",
            "10000 test samples\n"
          ],
          "name": "stdout"
        }
      ]
    },
    {
      "metadata": {
        "id": "0q3B2wscGO6L",
        "colab_type": "code",
        "colab": {
          "autoexec": {
            "startup": false,
            "wait_interval": 0
          }
        }
      },
      "cell_type": "code",
      "source": [
        "# convert class vectors to binary class matrices - create one-hot vectors\n",
        "y_train = np_utils.to_categorical(y_train, NB_CLASSES)\n",
        "y_test = np_utils.to_categorical(y_test, NB_CLASSES)"
      ],
      "execution_count": 0,
      "outputs": []
    },
    {
      "metadata": {
        "id": "oRP647oCGO6P",
        "colab_type": "code",
        "colab": {
          "autoexec": {
            "startup": false,
            "wait_interval": 0
          }
        }
      },
      "cell_type": "code",
      "source": [
        "# initialize the optimizer and model\n",
        "model = LeNet.build(input_shape=INPUT_SHAPE, classes=NB_CLASSES)\n",
        "model.compile(loss=\"categorical_crossentropy\", optimizer=OPTIMIZER, metrics=[\"accuracy\"])"
      ],
      "execution_count": 0,
      "outputs": []
    },
    {
      "metadata": {
        "id": "qD2SanG-GO6U",
        "colab_type": "code",
        "colab": {
          "autoexec": {
            "startup": false,
            "wait_interval": 0
          },
          "output_extras": [
            {
              "item_id": 78
            },
            {
              "item_id": 156
            },
            {
              "item_id": 225
            },
            {
              "item_id": 293
            },
            {
              "item_id": 359
            },
            {
              "item_id": 370
            },
            {
              "item_id": 372
            },
            {
              "item_id": 374
            },
            {
              "item_id": 377
            }
          ],
          "base_uri": "https://localhost:8080/",
          "height": 904
        },
        "outputId": "18b05d1c-f664-4924-abe8-5e3cf04e4c14",
        "executionInfo": {
          "status": "ok",
          "timestamp": 1520673143874,
          "user_tz": -60,
          "elapsed": 143198,
          "user": {
            "displayName": "Kishwar Kumar",
            "photoUrl": "https://lh3.googleusercontent.com/a/default-user=s128",
            "userId": "105642459363095416331"
          }
        }
      },
      "cell_type": "code",
      "source": [
        "history = model.fit(X_train, y_train, \n",
        "                    batch_size=BATCH_SIZE, epochs=NB_EPOCH, \n",
        "                    verbose=VERBOSE, validation_split=VALIDATION_SPLIT)"
      ],
      "execution_count": 122,
      "outputs": [
        {
          "output_type": "stream",
          "text": [
            "Train on 48000 samples, validate on 12000 samples\n",
            "Epoch 1/25\n",
            "48000/48000 [==============================] - 6s 128us/step - loss: 0.1841 - acc: 0.9438 - val_loss: 0.0616 - val_acc: 0.9810\n",
            "Epoch 2/25\n",
            "48000/48000 [==============================] - 6s 118us/step - loss: 0.0514 - acc: 0.9838 - val_loss: 0.0458 - val_acc: 0.9858\n",
            "Epoch 3/25\n",
            "48000/48000 [==============================] - 6s 119us/step - loss: 0.0343 - acc: 0.9895 - val_loss: 0.0406 - val_acc: 0.9875\n",
            "Epoch 4/25\n",
            "16896/48000 [=========>....................] - ETA: 3s - loss: 0.0182 - acc: 0.9941"
          ],
          "name": "stdout"
        },
        {
          "output_type": "stream",
          "text": [
            "48000/48000 [==============================] - 6s 119us/step - loss: 0.0232 - acc: 0.9924 - val_loss: 0.0448 - val_acc: 0.9858\n",
            "Epoch 5/25\n",
            "48000/48000 [==============================] - 6s 119us/step - loss: 0.0176 - acc: 0.9944 - val_loss: 0.0365 - val_acc: 0.9897\n",
            "Epoch 6/25\n",
            "48000/48000 [==============================] - 6s 119us/step - loss: 0.0120 - acc: 0.9962 - val_loss: 0.0350 - val_acc: 0.9899\n",
            "Epoch 7/25\n",
            "40064/48000 [========================>.....] - ETA: 0s - loss: 0.0100 - acc: 0.9968"
          ],
          "name": "stdout"
        },
        {
          "output_type": "stream",
          "text": [
            "48000/48000 [==============================] - 6s 118us/step - loss: 0.0116 - acc: 0.9962 - val_loss: 0.0387 - val_acc: 0.9880\n",
            "Epoch 8/25\n",
            "48000/48000 [==============================] - 6s 118us/step - loss: 0.0105 - acc: 0.9965 - val_loss: 0.0565 - val_acc: 0.9847\n",
            "Epoch 9/25\n",
            "48000/48000 [==============================] - 6s 119us/step - loss: 0.0086 - acc: 0.9970 - val_loss: 0.0403 - val_acc: 0.9883\n",
            "Epoch 10/25\n",
            "44160/48000 [==========================>...] - ETA: 0s - loss: 0.0060 - acc: 0.9981"
          ],
          "name": "stdout"
        },
        {
          "output_type": "stream",
          "text": [
            "48000/48000 [==============================] - 6s 118us/step - loss: 0.0064 - acc: 0.9980 - val_loss: 0.0452 - val_acc: 0.9883\n",
            "Epoch 11/25\n",
            "48000/48000 [==============================] - 6s 119us/step - loss: 0.0059 - acc: 0.9980 - val_loss: 0.0400 - val_acc: 0.9918\n",
            "Epoch 12/25\n",
            "48000/48000 [==============================] - 6s 118us/step - loss: 0.0068 - acc: 0.9979 - val_loss: 0.0522 - val_acc: 0.9879\n",
            "Epoch 13/25\n",
            "43904/48000 [==========================>...] - ETA: 0s - loss: 0.0060 - acc: 0.9979"
          ],
          "name": "stdout"
        },
        {
          "output_type": "stream",
          "text": [
            "48000/48000 [==============================] - 6s 119us/step - loss: 0.0059 - acc: 0.9979 - val_loss: 0.0432 - val_acc: 0.9911\n",
            "Epoch 14/25\n",
            "48000/48000 [==============================] - 6s 118us/step - loss: 0.0043 - acc: 0.9988 - val_loss: 0.0459 - val_acc: 0.9901\n",
            "Epoch 15/25\n",
            "48000/48000 [==============================] - 6s 117us/step - loss: 0.0040 - acc: 0.9986 - val_loss: 0.0379 - val_acc: 0.9921\n",
            "Epoch 16/25\n",
            "44032/48000 [==========================>...] - ETA: 0s - loss: 0.0041 - acc: 0.9986"
          ],
          "name": "stdout"
        },
        {
          "output_type": "stream",
          "text": [
            "48000/48000 [==============================] - 6s 117us/step - loss: 0.0045 - acc: 0.9986 - val_loss: 0.0420 - val_acc: 0.9896\n",
            "Epoch 17/25\n",
            "48000/48000 [==============================] - 6s 118us/step - loss: 0.0042 - acc: 0.9986 - val_loss: 0.0461 - val_acc: 0.9894\n",
            "Epoch 18/25\n",
            "48000/48000 [==============================] - 6s 118us/step - loss: 0.0027 - acc: 0.9991 - val_loss: 0.0342 - val_acc: 0.9922\n",
            "Epoch 19/25\n",
            "44032/48000 [==========================>...] - ETA: 0s - loss: 0.0034 - acc: 0.9989"
          ],
          "name": "stdout"
        },
        {
          "output_type": "stream",
          "text": [
            "48000/48000 [==============================] - 6s 118us/step - loss: 0.0032 - acc: 0.9990 - val_loss: 0.0393 - val_acc: 0.9912\n",
            "Epoch 20/25\n",
            "48000/48000 [==============================] - 6s 118us/step - loss: 0.0032 - acc: 0.9991 - val_loss: 0.0386 - val_acc: 0.9910\n",
            "Epoch 21/25\n",
            "48000/48000 [==============================] - 6s 117us/step - loss: 0.0049 - acc: 0.9983 - val_loss: 0.0461 - val_acc: 0.9908\n",
            "Epoch 22/25\n",
            "44032/48000 [==========================>...] - ETA: 0s - loss: 0.0021 - acc: 0.9995"
          ],
          "name": "stdout"
        },
        {
          "output_type": "stream",
          "text": [
            "48000/48000 [==============================] - 6s 118us/step - loss: 0.0019 - acc: 0.9996 - val_loss: 0.0339 - val_acc: 0.9929\n",
            "Epoch 23/25\n",
            "48000/48000 [==============================] - 6s 118us/step - loss: 8.2957e-05 - acc: 1.0000 - val_loss: 0.0366 - val_acc: 0.9927\n",
            "Epoch 24/25\n",
            "48000/48000 [==============================] - 6s 117us/step - loss: 2.3058e-05 - acc: 1.0000 - val_loss: 0.0364 - val_acc: 0.9933\n",
            "Epoch 25/25\n",
            "42112/48000 [=========================>....] - ETA: 0s - loss: 1.0047e-05 - acc: 1.0000"
          ],
          "name": "stdout"
        },
        {
          "output_type": "stream",
          "text": [
            "48000/48000 [==============================] - 6s 118us/step - loss: 1.0338e-05 - acc: 1.0000 - val_loss: 0.0368 - val_acc: 0.9933\n"
          ],
          "name": "stdout"
        }
      ]
    },
    {
      "metadata": {
        "id": "ViQg6BggGO6c",
        "colab_type": "code",
        "colab": {
          "autoexec": {
            "startup": false,
            "wait_interval": 0
          },
          "output_extras": [
            {
              "item_id": 4
            }
          ],
          "base_uri": "https://localhost:8080/",
          "height": 85
        },
        "outputId": "8136c908-de4b-4eb4-8bac-1a2b92c63292",
        "executionInfo": {
          "status": "ok",
          "timestamp": 1520673145181,
          "user_tz": -60,
          "elapsed": 1261,
          "user": {
            "displayName": "Kishwar Kumar",
            "photoUrl": "https://lh3.googleusercontent.com/a/default-user=s128",
            "userId": "105642459363095416331"
          }
        }
      },
      "cell_type": "code",
      "source": [
        "score = model.evaluate(X_test, y_test, verbose=VERBOSE)\n",
        "print(\"\\nTest score:\", score[0])\n",
        "print('Test accuracy:', score[1])"
      ],
      "execution_count": 123,
      "outputs": [
        {
          "output_type": "stream",
          "text": [
            "10000/10000 [==============================] - 1s 88us/step\n",
            "\n",
            "Test score: 0.033932007025618875\n",
            "Test accuracy: 0.9934\n"
          ],
          "name": "stdout"
        }
      ]
    },
    {
      "metadata": {
        "id": "k-sWsCPKGO6k",
        "colab_type": "code",
        "colab": {
          "autoexec": {
            "startup": false,
            "wait_interval": 0
          },
          "output_extras": [
            {
              "item_id": 1
            },
            {
              "item_id": 2
            }
          ],
          "base_uri": "https://localhost:8080/",
          "height": 393
        },
        "outputId": "c097ee9a-def9-4c2f-ca25-8567a8ad9aae",
        "executionInfo": {
          "status": "ok",
          "timestamp": 1520673146007,
          "user_tz": -60,
          "elapsed": 750,
          "user": {
            "displayName": "Kishwar Kumar",
            "photoUrl": "https://lh3.googleusercontent.com/a/default-user=s128",
            "userId": "105642459363095416331"
          }
        }
      },
      "cell_type": "code",
      "source": [
        "# list all data in history\n",
        "print(history.history.keys())\n",
        "# summarize history for accuracy\n",
        "plt.plot(history.history['acc'])\n",
        "plt.plot(history.history['val_acc'])\n",
        "plt.title('model accuracy')\n",
        "plt.ylabel('accuracy')\n",
        "plt.xlabel('epoch')\n",
        "plt.legend(['train', 'test'], loc='upper left')\n",
        "plt.show()"
      ],
      "execution_count": 124,
      "outputs": [
        {
          "output_type": "stream",
          "text": [
            "dict_keys(['val_loss', 'val_acc', 'loss', 'acc'])\n"
          ],
          "name": "stdout"
        },
        {
          "output_type": "display_data",
          "data": {
            "image/png": "[encoded data removed]",
            "text/plain": [
              "<matplotlib.figure.Figure at 0x7fb453838be0>"
            ]
          },
          "metadata": {
            "tags": []
          }
        }
      ]
    },
    {
      "metadata": {
        "id": "jKM3ACXMGO6r",
        "colab_type": "code",
        "colab": {
          "autoexec": {
            "startup": false,
            "wait_interval": 0
          },
          "output_extras": [
            {
              "item_id": 1
            }
          ],
          "base_uri": "https://localhost:8080/",
          "height": 376
        },
        "outputId": "b26dafc0-2b2b-4fba-8dd0-363d47b48e85",
        "executionInfo": {
          "status": "ok",
          "timestamp": 1520673147016,
          "user_tz": -60,
          "elapsed": 984,
          "user": {
            "displayName": "Kishwar Kumar",
            "photoUrl": "https://lh3.googleusercontent.com/a/default-user=s128",
            "userId": "105642459363095416331"
          }
        }
      },
      "cell_type": "code",
      "source": [
        "# summarize history for loss\n",
        "plt.plot(history.history['loss'])\n",
        "plt.plot(history.history['val_loss'])\n",
        "plt.title('model loss')\n",
        "plt.ylabel('loss')\n",
        "plt.xlabel('epoch')\n",
        "plt.legend(['train', 'test'], loc='upper left')\n",
        "plt.show()"
      ],
      "execution_count": 125,
      "outputs": [
        {
          "output_type": "display_data",
          "data": {
            "image/png": "[encoded data removed]",
            "text/plain": [
              "<matplotlib.figure.Figure at 0x7fb453855e10>"
            ]
          },
          "metadata": {
            "tags": []
          }
        }
      ]
    },
    {
      "metadata": {
        "id": "O0UShJVoGO6y",
        "colab_type": "code",
        "colab": {
          "autoexec": {
            "startup": false,
            "wait_interval": 0
          }
        }
      },
      "cell_type": "code",
      "source": [
        "# save model on disk\n",
        "model.save('keras_LeNet.h5')"
      ],
      "execution_count": 0,
      "outputs": []
    },
    {
      "metadata": {
        "id": "O3E2vdETGO62",
        "colab_type": "code",
        "colab": {
          "autoexec": {
            "startup": false,
            "wait_interval": 0
          }
        }
      },
      "cell_type": "code",
      "source": [
        "from keras.models import load_model\n",
        "ld_model = load_model('keras_LeNet.h5')"
      ],
      "execution_count": 0,
      "outputs": []
    },
    {
      "metadata": {
        "id": "LbZ0qbVoGO68",
        "colab_type": "code",
        "colab": {
          "autoexec": {
            "startup": false,
            "wait_interval": 0
          },
          "output_extras": [
            {
              "item_id": 6
            }
          ],
          "base_uri": "https://localhost:8080/",
          "height": 85
        },
        "outputId": "8eb8156c-7b61-4d67-ab14-0cff7fbaa415",
        "executionInfo": {
          "status": "ok",
          "timestamp": 1520673150959,
          "user_tz": -60,
          "elapsed": 1658,
          "user": {
            "displayName": "Kishwar Kumar",
            "photoUrl": "https://lh3.googleusercontent.com/a/default-user=s128",
            "userId": "105642459363095416331"
          }
        }
      },
      "cell_type": "code",
      "source": [
        "ld_score = ld_model.evaluate(X_test, y_test, verbose=VERBOSE)\n",
        "print(\"\\nTest score:\", ld_score[0])\n",
        "print('Test accuracy:', ld_score[1])"
      ],
      "execution_count": 128,
      "outputs": [
        {
          "output_type": "stream",
          "text": [
            "10000/10000 [==============================] - 1s 110us/step\n",
            "\n",
            "Test score: 0.033932007025618875\n",
            "Test accuracy: 0.9934\n"
          ],
          "name": "stdout"
        }
      ]
    },
    {
      "metadata": {
        "id": "0Ts9eaWXGO7C",
        "colab_type": "code",
        "colab": {
          "autoexec": {
            "startup": false,
            "wait_interval": 0
          }
        }
      },
      "cell_type": "code",
      "source": [
        "test_img =  X_test[44][0][:]"
      ],
      "execution_count": 0,
      "outputs": []
    },
    {
      "metadata": {
        "id": "fcaPuD-EGO7G",
        "colab_type": "code",
        "colab": {
          "autoexec": {
            "startup": false,
            "wait_interval": 0
          },
          "output_extras": [
            {
              "item_id": 1
            },
            {
              "item_id": 2
            }
          ],
          "base_uri": "https://localhost:8080/",
          "height": 364
        },
        "outputId": "c3c97173-a872-40f6-a679-e89699c7984e",
        "executionInfo": {
          "status": "ok",
          "timestamp": 1520673398642,
          "user_tz": -60,
          "elapsed": 526,
          "user": {
            "displayName": "Kishwar Kumar",
            "photoUrl": "https://lh3.googleusercontent.com/a/default-user=s128",
            "userId": "105642459363095416331"
          }
        }
      },
      "cell_type": "code",
      "source": [
        "plt.imshow(test_img)"
      ],
      "execution_count": 159,
      "outputs": [
        {
          "output_type": "execute_result",
          "data": {
            "text/plain": [
              "<matplotlib.image.AxesImage at 0x7fb4530aa8d0>"
            ]
          },
          "metadata": {
            "tags": []
          },
          "execution_count": 159
        },
        {
          "output_type": "display_data",
          "data": {
            "image/png": "[encoded data removed]",
            "text/plain": [
              "<matplotlib.figure.Figure at 0x7fb453125da0>"
            ]
          },
          "metadata": {
            "tags": []
          }
        }
      ]
    },
    {
      "metadata": {
        "id": "mhzQ_JPrGO7N",
        "colab_type": "code",
        "colab": {
          "autoexec": {
            "startup": false,
            "wait_interval": 0
          }
        }
      },
      "cell_type": "code",
      "source": [
        "test_image = test_img[np.newaxis, np.newaxis, :, :]\n",
        "pred = ld_model.predict(test_image)"
      ],
      "execution_count": 0,
      "outputs": []
    },
    {
      "metadata": {
        "id": "6VhJuGWmGO7V",
        "colab_type": "code",
        "colab": {
          "autoexec": {
            "startup": false,
            "wait_interval": 0
          }
        }
      },
      "cell_type": "code",
      "source": [
        "prediction = pred.argmax(axis=1)"
      ],
      "execution_count": 0,
      "outputs": []
    },
    {
      "metadata": {
        "id": "HRAkM-RZGO7b",
        "colab_type": "code",
        "colab": {
          "autoexec": {
            "startup": false,
            "wait_interval": 0
          },
          "output_extras": [
            {
              "item_id": 1
            }
          ],
          "base_uri": "https://localhost:8080/",
          "height": 34
        },
        "outputId": "f2d5fc60-6d45-4fb7-b660-b049e76d05d4",
        "executionInfo": {
          "status": "ok",
          "timestamp": 1520673461487,
          "user_tz": -60,
          "elapsed": 532,
          "user": {
            "displayName": "Kishwar Kumar",
            "photoUrl": "https://lh3.googleusercontent.com/a/default-user=s128",
            "userId": "105642459363095416331"
          }
        }
      },
      "cell_type": "code",
      "source": [
        "prediction[0]"
      ],
      "execution_count": 163,
      "outputs": [
        {
          "output_type": "execute_result",
          "data": {
            "text/plain": [
              "3"
            ]
          },
          "metadata": {
            "tags": []
          },
          "execution_count": 163
        }
      ]
    },
    {
      "metadata": {
        "id": "_-sq69UXIpSQ",
        "colab_type": "code",
        "colab": {
          "autoexec": {
            "startup": false,
            "wait_interval": 0
          }
        }
      },
      "cell_type": "code",
      "source": [
        ""
      ],
      "execution_count": 0,
      "outputs": []
    },
    {
      "metadata": {
        "id": "mrULXOaiGO7R",
        "colab_type": "code",
        "colab": {
          "autoexec": {
            "startup": false,
            "wait_interval": 0
          }
        }
      },
      "cell_type": "code",
      "source": [
        ""
      ],
      "execution_count": 0,
      "outputs": []
    }
  ]
}